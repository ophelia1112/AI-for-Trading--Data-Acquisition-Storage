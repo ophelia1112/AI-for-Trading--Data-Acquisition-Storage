{
 "cells": [
  {
   "cell_type": "code",
   "execution_count": null,
   "id": "initial_id",
   "metadata": {
    "collapsed": true
   },
   "outputs": [],
   "source": [
    "# 1 TA-Lib need install specially in AWS-EC2 terminal\n",
    "# ERROR: Could not find a version that satisfies the requirement talib (from versions: none) ERROR: No matching distribution found for talib"
   ]
  },
  {
   "metadata": {},
   "cell_type": "markdown",
   "source": "Install C",
   "id": "e24651006bec0ff7"
  },
  {
   "metadata": {},
   "cell_type": "code",
   "outputs": [],
   "execution_count": null,
   "source": [
    "sudo yum install gcc gcc-c++ make -y\n",
    "sudo yum install epel-release -y\n",
    "sudo yum install ta-lib -y"
   ],
   "id": "a9ecc9e8b654f07a"
  },
  {
   "metadata": {},
   "cell_type": "markdown",
   "source": "Install python bond",
   "id": "722cdbcb426e67fa"
  },
  {
   "metadata": {},
   "cell_type": "code",
   "outputs": [],
   "execution_count": null,
   "source": "pip3 install TA-Lib",
   "id": "83168002a61373c8"
  },
  {
   "metadata": {},
   "cell_type": "markdown",
   "source": "",
   "id": "a9d64a20bfbe6af5"
  },
  {
   "metadata": {},
   "cell_type": "code",
   "outputs": [],
   "execution_count": null,
   "source": [
    "# 2 if \"epel-release\" can not use\n",
    "# No match for argument: epel-release\n",
    "# Error: Unable to find a match: epel-release"
   ],
   "id": "aa43fd4f404dccad"
  },
  {
   "metadata": {},
   "cell_type": "code",
   "outputs": [],
   "execution_count": null,
   "source": "sudo yum update -y",
   "id": "f8af13f7be26faca"
  },
  {
   "metadata": {},
   "cell_type": "code",
   "outputs": [],
   "execution_count": null,
   "source": [
    "sudo yum groupinstall \"Development Tools\" -y\n",
    "sudo yum install gcc gcc-c++ make -y"
   ],
   "id": "e0be86ee07b7e5ae"
  },
  {
   "metadata": {},
   "cell_type": "code",
   "outputs": [],
   "execution_count": null,
   "source": [
    "cd /usr/local/src\n",
    "sudo curl -O http://prdownloads.sourceforge.net/ta-lib/ta-lib-0.4.0-src.tar.gz\n",
    "sudo tar -xzf ta-lib-0.4.0-src.tar.gz\n",
    "cd ta-lib\n",
    "sudo ./configure --prefix=/usr\n",
    "sudo make\n",
    "sudo make install"
   ],
   "id": "2e578cb05e9e3fd1"
  },
  {
   "metadata": {},
   "cell_type": "code",
   "outputs": [],
   "execution_count": null,
   "source": [
    "pip3 install --upgrade pip\n",
    "pip3 install ccxt pandas pymysql TA-Lib python-dotenv"
   ],
   "id": "69392c5cbb38a56f"
  },
  {
   "metadata": {},
   "cell_type": "markdown",
   "source": "",
   "id": "404a1f2a1731e6c3"
  },
  {
   "metadata": {},
   "cell_type": "markdown",
   "source": "",
   "id": "858606ae66b41280"
  },
  {
   "metadata": {},
   "cell_type": "code",
   "outputs": [],
   "execution_count": null,
   "source": "# 3 if \"301 Moved Permanently\"",
   "id": "1c131bf3d582773c"
  },
  {
   "metadata": {},
   "cell_type": "code",
   "outputs": [],
   "execution_count": null,
   "source": "sudo curl -L -O http://downloads.sourceforge.net/project/ta-lib/ta-lib/0.4.0/ta-lib-0.4.0-src.tar.gz",
   "id": "12be5c8c41ed9b8"
  },
  {
   "metadata": {},
   "cell_type": "code",
   "outputs": [],
   "execution_count": null,
   "source": [
    "sudo tar -xzf ta-lib-0.4.0-src.tar.gz\n",
    "cd ta-lib"
   ],
   "id": "9cd2270bfc7edf39"
  },
  {
   "metadata": {},
   "cell_type": "code",
   "outputs": [],
   "execution_count": null,
   "source": [
    "sudo ./configure --prefix=/usr\n",
    "sudo make\n",
    "sudo make install"
   ],
   "id": "ee86616e1f29f152"
  },
  {
   "metadata": {},
   "cell_type": "code",
   "outputs": [],
   "execution_count": null,
   "source": [
    "pip3 install --upgrade pip\n",
    "pip3 install TA-Lib"
   ],
   "id": "980d00842c6ea26e"
  },
  {
   "metadata": {},
   "cell_type": "markdown",
   "source": "",
   "id": "5a5bfb20f21be379"
  },
  {
   "metadata": {},
   "cell_type": "markdown",
   "source": "",
   "id": "f1e016126feffe7e"
  },
  {
   "metadata": {},
   "cell_type": "code",
   "outputs": [],
   "execution_count": null,
   "source": [
    "# 4 if lack python.h and GCC compile failed\n",
    "# ERROR: Failed building wheel for TA-Lib\n",
    "# Failed to build TA-Lib\n",
    "# ERROR: Failed to build installable wheels for some pyproject.toml based projects (TA-Lib)"
   ],
   "id": "3ce158808a5e3223"
  },
  {
   "metadata": {},
   "cell_type": "code",
   "outputs": [],
   "execution_count": null,
   "source": [
    "sudo yum groupinstall \"Development Tools\" -y\n",
    "sudo yum install gcc gcc-c++ make -y\n",
    "sudo yum install python3-devel -y"
   ],
   "id": "f10f23205c455ff2"
  },
  {
   "metadata": {},
   "cell_type": "code",
   "outputs": [],
   "execution_count": null,
   "source": [
    "cd ~/ta-lib\n",
    "sudo make clean\n",
    "sudo ./configure --prefix=/usr\n",
    "sudo make\n",
    "sudo make install"
   ],
   "id": "424ea9771e11644b"
  },
  {
   "metadata": {},
   "cell_type": "code",
   "outputs": [],
   "execution_count": null,
   "source": "pip3 install TA-Lib",
   "id": "91808f6a0e5c6820"
  },
  {
   "metadata": {},
   "cell_type": "markdown",
   "source": "",
   "id": "f404964ce47ef528"
  },
  {
   "metadata": {},
   "cell_type": "markdown",
   "source": "",
   "id": "dd05d641c10e6d0f"
  },
  {
   "metadata": {},
   "cell_type": "code",
   "outputs": [],
   "execution_count": null,
   "source": "# 5 if \"cd ~/ta-lib-bash: cd: /home/ec2-user/ta-lib: No such file or directory\"",
   "id": "229a0d0de460c172"
  },
  {
   "metadata": {},
   "cell_type": "code",
   "outputs": [],
   "execution_count": null,
   "source": [
    "sudo yum groupinstall \"Development Tools\" -y\n",
    "sudo yum install gcc gcc-c++ make -y\n",
    "sudo yum install python3-devel -y"
   ],
   "id": "4c69a1f53244e478"
  },
  {
   "metadata": {},
   "cell_type": "code",
   "outputs": [],
   "execution_count": null,
   "source": [
    "cd /usr/local/src\n",
    "sudo curl -L -o ta-lib-0.4.0-src.tar.gz http://downloads.sourceforge.net/project/ta-lib/ta-lib/0.4.0/ta-lib-0.4.0-src.tar.gz\n",
    "sudo tar -xzf ta-lib-0.4.0-src.tar.gz\n",
    "cd ta-lib\n",
    "sudo ./configure --prefix=/usr\n",
    "sudo make\n",
    "sudo make install"
   ],
   "id": "513d1cca2681b794"
  },
  {
   "metadata": {},
   "cell_type": "code",
   "outputs": [],
   "execution_count": null,
   "source": [
    "echo 'export LD_LIBRARY_PATH=/usr/local/lib:$LD_LIBRARY_PATH' >> ~/.bashrc\n",
    "source ~/.bashrc"
   ],
   "id": "54cfa05373c17de"
  },
  {
   "metadata": {},
   "cell_type": "code",
   "outputs": [],
   "execution_count": null,
   "source": "pip3 install TA-Lib",
   "id": "1c82557507213138"
  },
  {
   "metadata": {},
   "cell_type": "markdown",
   "source": "",
   "id": "53918d9b917480f"
  },
  {
   "metadata": {},
   "cell_type": "markdown",
   "source": "",
   "id": "c97463cc3094a0ba"
  },
  {
   "metadata": {},
   "cell_type": "markdown",
   "source": "",
   "id": "604ac74b74f32c95"
  },
  {
   "metadata": {},
   "cell_type": "code",
   "outputs": [],
   "execution_count": null,
   "source": "# 6 use conda to install(recommand, I use it install and success)",
   "id": "533e5f0a4b6072f5"
  },
  {
   "metadata": {},
   "cell_type": "code",
   "outputs": [],
   "execution_count": null,
   "source": [
    "cd ~\n",
    "wget https://repo.anaconda.com/miniconda/Miniconda3-latest-Linux-x86_64.sh"
   ],
   "id": "d2e7970a5e817501"
  },
  {
   "metadata": {},
   "cell_type": "code",
   "outputs": [],
   "execution_count": null,
   "source": "bash Miniconda3-latest-Linux-x86_64.sh",
   "id": "4bb6df96787c24da"
  },
  {
   "metadata": {},
   "cell_type": "code",
   "outputs": [],
   "execution_count": null,
   "source": "source ~/.bashrc",
   "id": "44c5fbca3ae45195"
  },
  {
   "metadata": {},
   "cell_type": "code",
   "outputs": [],
   "execution_count": null,
   "source": "conda install -c conda-forge ta-lib",
   "id": "283212708a28b768"
  },
  {
   "metadata": {},
   "cell_type": "code",
   "outputs": [],
   "execution_count": null,
   "source": "",
   "id": "2242939f5ce63a8e"
  },
  {
   "metadata": {},
   "cell_type": "markdown",
   "source": "",
   "id": "b664c9629671948"
  },
  {
   "metadata": {},
   "cell_type": "markdown",
   "source": "",
   "id": "d8ea2fe5d00fc326"
  },
  {
   "metadata": {},
   "cell_type": "code",
   "outputs": [],
   "execution_count": null,
   "source": [
    "# 7 if no enough space for you to install\n",
    "# Collecting package metadata (repodata.json): done\n",
    "# Solving environment: | Killed"
   ],
   "id": "133132f603288aad"
  },
  {
   "metadata": {},
   "cell_type": "code",
   "outputs": [],
   "execution_count": null,
   "source": [
    "sudo fallocate -l 2G /swapfile\n",
    "sudo chmod 600 /swapfile\n",
    "sudo mkswap /swapfile\n",
    "sudo swapon /swapfile"
   ],
   "id": "109201e52879b975"
  },
  {
   "metadata": {},
   "cell_type": "code",
   "outputs": [],
   "execution_count": null,
   "source": "conda install -c conda-forge ta-lib",
   "id": "36c712d887c99889"
  },
  {
   "metadata": {},
   "cell_type": "markdown",
   "source": "",
   "id": "377f8bed1493e8c4"
  },
  {
   "metadata": {},
   "cell_type": "code",
   "outputs": [],
   "execution_count": null,
   "source": "# 8 if install successfully",
   "id": "196fcc827d3347c0"
  },
  {
   "metadata": {},
   "cell_type": "code",
   "outputs": [],
   "execution_count": null,
   "source": [
    "Downloading and Extracting Packages:\n",
    "\n",
    "Preparing transaction: done\n",
    "Verifying transaction: done\n",
    "Executing transaction: done"
   ],
   "id": "aca468c070ea46a2"
  }
 ],
 "metadata": {
  "kernelspec": {
   "display_name": "Python 3",
   "language": "python",
   "name": "python3"
  },
  "language_info": {
   "codemirror_mode": {
    "name": "ipython",
    "version": 2
   },
   "file_extension": ".py",
   "mimetype": "text/x-python",
   "name": "python",
   "nbconvert_exporter": "python",
   "pygments_lexer": "ipython2",
   "version": "2.7.6"
  }
 },
 "nbformat": 4,
 "nbformat_minor": 5
}
