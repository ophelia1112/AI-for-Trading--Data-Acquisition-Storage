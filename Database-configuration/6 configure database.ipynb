{
 "cells": [
  {
   "metadata": {},
   "cell_type": "code",
   "outputs": [],
   "execution_count": null,
   "source": "# AWS server: EC2 + RDS + VPC",
   "id": "a87634fb11453c71"
  },
  {
   "metadata": {},
   "cell_type": "code",
   "outputs": [],
   "execution_count": null,
   "source": "# 1 VPC",
   "id": "f1951127dc7d027e"
  },
  {
   "metadata": {},
   "cell_type": "markdown",
   "source": [
    "➡️ Build VPC and configuration\n",
    "\n",
    "(1) Find VPC and build one set name as ... and IPv4 CIDR\n",
    "\n",
    "(2) Build subnet and set name as ... and set CIDR as \"10.0.1.0/24\"\n",
    "\n",
    "(3) Build internet igw and set name as ... and add it on the VPC\n",
    "\n",
    "(4) Build route table and select the VPC bulit add route \"0.0.0.0/0\" which points at internet igw and connect with subnet"
   ],
   "id": "e76c23512c15f7e"
  },
  {
   "metadata": {},
   "cell_type": "code",
   "outputs": [],
   "execution_count": null,
   "source": "# 2 EC2 instance",
   "id": "935c474331b7b118"
  },
  {
   "metadata": {},
   "cell_type": "markdown",
   "source": [
    "➡️ Build EC2 instance and configuration\n",
    "\n",
    "(1) Enter in EC2 console and click activate instance\n",
    "\n",
    "(2) Build EC2 instance and name it as ... , choose \"Amazon Linux 2023 (or others)\" and instance of \"t2.micro\" for free use, bulid key pairs and save it\n",
    "\n",
    "(3) Configure the website, choose the VPC and subnet we set, and local IPv4 address\n",
    "\n",
    "(4) Security group: for SSH, MySQL, HTTP\n",
    "\n",
    "(5) Activate instance and copy the public IP for SSH login\n",
    "\n",
    "(6) Login into EC2 terminal: use command in local terminal \"ssh -i keypair.pem ec2-user@EC2 public IP\"\n",
    "\n",
    "(7) Copy the endpoint for database login\n",
    "\n",
    "(8) If ssh think key pairs are unsafe and shows the error of \"Permissions xxxx for 'key_pairs.pem' are too open.It is required that your private key files are NOT accessible by others.\"\n",
    "use \"chmod 400 key_pairs.pem\" to increase security and enter again\n",
    "\n",
    "(9) If you need more than one environment you should do below:\n",
    "\n",
    "➡️ Install packages and configure AWS-EC2 server(operate commands in AWS-EC2 terminal):\n",
    "\n",
    "➡️➡️ use command \"sudo apt update && sudo apt upgrade -y\" to update system\n",
    "\n",
    "➡️➡️ use command \"sudo apt install python3 python3-pip -y\" to install python and pip3\n",
    "\n",
    "➡️➡️ install mysql client using \"sudo apt install mysql-client -y\"\n",
    "\n",
    "➡️➡️ use three commands to install virtual env \"sudo apt install python3-venv -y\" \"python3 -m venv env_name\" \"source myenv/bin/activate\"\n",
    "\n",
    "➡️➡️ install the libraries we need \"pip install ccxt pandas pymysql talib python-dotenv...\""
   ],
   "id": "81e8acb297d00854"
  },
  {
   "metadata": {},
   "cell_type": "code",
   "outputs": [],
   "execution_count": null,
   "source": "# 3 RDS",
   "id": "c1a6ae6f268b5529"
  },
  {
   "metadata": {},
   "cell_type": "markdown",
   "source": [
    "➡️ Built RDS and configuration\n",
    "\n",
    "(1) Enter in RDS console and build database, choose \"MySQL\" and name it, set user name and password\n",
    "\n",
    "(2) Configure website: choose VPC, subnet, and security group we set\n",
    "\n",
    "(3) Connect database: use command \"mysql -h endpoint -u username -p\" to enter in mysql database in EC2 terminal\n",
    "\n",
    "➡️ create database and table:\n",
    "\n",
    "➡️➡️ use command \"CREATE DATABASE database1;\" to create database in MySQL terminal\n",
    "\n",
    "➡️➡️ use command \"USE database1\" to use it and set and check tables\n",
    "\n",
    "➡️➡️ use command \"CREATE TABLE table1(columns)\" to create table\n",
    "\n",
    "➡️➡️ use command \"SELECT * FROM table1 LIMIT ...;\" to check data"
   ],
   "id": "4f75a5d7d21e1559"
  },
  {
   "metadata": {},
   "cell_type": "code",
   "outputs": [],
   "execution_count": null,
   "source": "# 4 Upload codes and operate in the backend",
   "id": "40e15df2181ff607"
  },
  {
   "metadata": {},
   "cell_type": "markdown",
   "source": [
    "️➡️ use \"scp -i keypairs.pem code.py ec2-user@EC2 public IP:/home/ec2-user/\" to upload code in local terminal\n",
    "\n",
    "➡️ enter AWS-EC2 server and use \"nohup python3 code.py > worklog.log 2>&1 &\" to operate codes in backend without disturbance of website and local factors\n",
    "\n",
    "➡️➡️ use command \"tail -f worklog.log\" to check the logs"
   ],
   "id": "6e4ba4d1ad3cdc39"
  },
  {
   "metadata": {},
   "cell_type": "code",
   "outputs": [],
   "execution_count": null,
   "source": "# 5 If encounter some problems while operating the codes",
   "id": "4af8cd0d7feb0c34"
  },
  {
   "metadata": {},
   "cell_type": "markdown",
   "source": [
    "➡️ Use \"ps aux | grep python\" to find the process of code\n",
    "\n",
    "➡️ Use \"kill -9 the number of process\" to stop the code procession\n",
    "\n",
    "➡️ If have mutiple process use \"killall -9 python\" in EC2 terminal to kill all"
   ],
   "id": "3e549ba3ede6e833"
  }
 ],
 "metadata": {
  "kernelspec": {
   "display_name": "Python 3",
   "language": "python",
   "name": "python3"
  },
  "language_info": {
   "codemirror_mode": {
    "name": "ipython",
    "version": 2
   },
   "file_extension": ".py",
   "mimetype": "text/x-python",
   "name": "python",
   "nbconvert_exporter": "python",
   "pygments_lexer": "ipython2",
   "version": "2.7.6"
  }
 },
 "nbformat": 4,
 "nbformat_minor": 5
}
