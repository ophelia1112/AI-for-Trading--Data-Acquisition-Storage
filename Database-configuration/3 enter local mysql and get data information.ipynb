{
 "cells": [
  {
   "cell_type": "code",
   "execution_count": null,
   "id": "initial_id",
   "metadata": {
    "collapsed": true
   },
   "outputs": [],
   "source": "# get into mysql and get some data information"
  },
  {
   "metadata": {},
   "cell_type": "markdown",
   "source": "login into mysql",
   "id": "8fcaf3a5ddf99bd4"
  },
  {
   "metadata": {},
   "cell_type": "code",
   "outputs": [],
   "execution_count": null,
   "source": "mysql -u root -p",
   "id": "5949a7592f642132"
  },
  {
   "metadata": {},
   "cell_type": "markdown",
   "source": "show all the databases",
   "id": "5a72bc6c5197cb2c"
  },
  {
   "metadata": {},
   "cell_type": "code",
   "outputs": [],
   "execution_count": null,
   "source": "SHOW DATABASES;",
   "id": "b5fa46ce73fd56ea"
  },
  {
   "metadata": {},
   "cell_type": "markdown",
   "source": "use the database",
   "id": "e836093fc03ee91c"
  },
  {
   "metadata": {},
   "cell_type": "code",
   "outputs": [],
   "execution_count": null,
   "source": "USE ***;",
   "id": "b913846c0d3d3ef8"
  },
  {
   "metadata": {},
   "cell_type": "markdown",
   "source": "show all the tables",
   "id": "f25b7c03863ad995"
  },
  {
   "metadata": {},
   "cell_type": "code",
   "outputs": [],
   "execution_count": null,
   "source": "SHOW TABLES;",
   "id": "2918d9c75455246e"
  },
  {
   "metadata": {},
   "cell_type": "markdown",
   "source": "show the structure of table",
   "id": "4b50fd80c8140a2e"
  },
  {
   "metadata": {},
   "cell_type": "code",
   "outputs": [],
   "execution_count": null,
   "source": "DESCRIBE ***;",
   "id": "4512fc8c6eadee11"
  },
  {
   "metadata": {},
   "cell_type": "markdown",
   "source": "show the data in table",
   "id": "9553edb0127e7d34"
  },
  {
   "metadata": {},
   "cell_type": "code",
   "outputs": [],
   "execution_count": null,
   "source": "SELECT * FROM database LIMIT 100;",
   "id": "696a26aab7b2d31c"
  },
  {
   "metadata": {},
   "cell_type": "markdown",
   "source": "quit",
   "id": "468137e1e28edb6"
  },
  {
   "metadata": {},
   "cell_type": "code",
   "outputs": [],
   "execution_count": null,
   "source": "exit;",
   "id": "8d981223ff4ba752"
  }
 ],
 "metadata": {
  "kernelspec": {
   "display_name": "Python 3",
   "language": "python",
   "name": "python3"
  },
  "language_info": {
   "codemirror_mode": {
    "name": "ipython",
    "version": 2
   },
   "file_extension": ".py",
   "mimetype": "text/x-python",
   "name": "python",
   "nbconvert_exporter": "python",
   "pygments_lexer": "ipython2",
   "version": "2.7.6"
  }
 },
 "nbformat": 4,
 "nbformat_minor": 5
}
