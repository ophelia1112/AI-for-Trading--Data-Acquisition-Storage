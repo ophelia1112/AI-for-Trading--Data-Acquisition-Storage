{
 "cells": [
  {
   "cell_type": "code",
   "execution_count": null,
   "id": "initial_id",
   "metadata": {
    "collapsed": true
   },
   "outputs": [],
   "source": "# stop mysql process and delete lock files in terminal"
  },
  {
   "metadata": {},
   "cell_type": "code",
   "outputs": [],
   "execution_count": null,
   "source": "ps aux | grep mysql",
   "id": "11670e72a3f4dfd5"
  },
  {
   "metadata": {},
   "cell_type": "markdown",
   "source": "will see some process along with the number codes behind the user name",
   "id": "a7f746010e4ec726"
  },
  {
   "metadata": {},
   "cell_type": "code",
   "outputs": [],
   "execution_count": null,
   "source": "kill -9 \"number codes\"",
   "id": "c7300e3eede7de69"
  },
  {
   "metadata": {},
   "cell_type": "markdown",
   "source": "if always have process and can not be deleted, there are some lock files need to delete",
   "id": "59e62ab4299d28"
  },
  {
   "metadata": {},
   "cell_type": "code",
   "outputs": [],
   "execution_count": null,
   "source": [
    "# show the lock files\n",
    "ls /opt/homebrew/var/mysql/"
   ],
   "id": "53b2ba5589fd3410"
  },
  {
   "metadata": {},
   "cell_type": "code",
   "outputs": [],
   "execution_count": null,
   "source": "rm -f /opt/homebrew/var/mysql/*.pid",
   "id": "e4b8e72c67bdaeb4"
  },
  {
   "metadata": {},
   "cell_type": "markdown",
   "source": "or terminate the process",
   "id": "69a023f5ac757024"
  },
  {
   "metadata": {},
   "cell_type": "code",
   "outputs": [],
   "execution_count": null,
   "source": [
    "pkill -9 mysqld\n",
    "pkill -9 mysqld_safe"
   ],
   "id": "eb067d5809f0cba1"
  },
  {
   "metadata": {},
   "cell_type": "markdown",
   "source": "and check again",
   "id": "f0d05b7e93a6e7e9"
  },
  {
   "metadata": {},
   "cell_type": "code",
   "outputs": [],
   "execution_count": null,
   "source": "ps aux | grep mysql",
   "id": "2cac892c513d938c"
  }
 ],
 "metadata": {
  "kernelspec": {
   "display_name": "Python 3",
   "language": "python",
   "name": "python3"
  },
  "language_info": {
   "codemirror_mode": {
    "name": "ipython",
    "version": 2
   },
   "file_extension": ".py",
   "mimetype": "text/x-python",
   "name": "python",
   "nbconvert_exporter": "python",
   "pygments_lexer": "ipython2",
   "version": "2.7.6"
  }
 },
 "nbformat": 4,
 "nbformat_minor": 5
}
