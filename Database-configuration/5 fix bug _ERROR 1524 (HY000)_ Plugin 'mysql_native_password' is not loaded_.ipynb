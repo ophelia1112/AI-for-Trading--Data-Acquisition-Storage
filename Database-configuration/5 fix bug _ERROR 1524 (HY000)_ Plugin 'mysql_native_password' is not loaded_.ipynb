{
 "cells": [
  {
   "cell_type": "code",
   "execution_count": null,
   "id": "initial_id",
   "metadata": {
    "collapsed": true
   },
   "outputs": [],
   "source": [
    "# bug content\n",
    "# ERROR 1524 (HY000): Plugin 'mysql_native_password' is not loaded\n",
    "# terminal commands"
   ]
  },
  {
   "metadata": {},
   "cell_type": "markdown",
   "source": "check mysql plugin",
   "id": "b8c3155370fb484c"
  },
  {
   "metadata": {},
   "cell_type": "code",
   "outputs": [],
   "execution_count": null,
   "source": "SELECT plugin FROM mysql.user WHERE User = 'your original user';",
   "id": "86c7c5393b20611a"
  },
  {
   "metadata": {},
   "cell_type": "markdown",
   "source": "maybe print \"caching_sha2_password\"",
   "id": "6ba5fdfdef09eea5"
  },
  {
   "metadata": {},
   "cell_type": "markdown",
   "source": "check if \"mysql_native_password\" available",
   "id": "4cfdcede31bd9a0"
  },
  {
   "metadata": {},
   "cell_type": "code",
   "outputs": [],
   "execution_count": null,
   "source": "SHOW PLUGINS;",
   "id": "3544c46911119b01"
  },
  {
   "metadata": {},
   "cell_type": "markdown",
   "source": "if the plugin does not exist",
   "id": "34eee66f8774bfee"
  },
  {
   "metadata": {},
   "cell_type": "code",
   "outputs": [],
   "execution_count": null,
   "source": "INSTALL PLUGIN mysql_native_password SONAME 'auth_socket.so';",
   "id": "d63eaed546284418"
  },
  {
   "metadata": {},
   "cell_type": "markdown",
   "source": "then create the user *** again",
   "id": "710e4e5ea14bc075"
  },
  {
   "metadata": {},
   "cell_type": "code",
   "outputs": [],
   "execution_count": null,
   "source": [
    "CREATE USER '***'@'your original user' IDENTIFIED BY 'password';\n",
    "GRANT ALL PRIVILEGES ON database.* TO '***'@'your original user';\n",
    "FLUSH PRIVILEGES;"
   ],
   "id": "ca3361ef73fc53bc"
  },
  {
   "metadata": {},
   "cell_type": "markdown",
   "source": "",
   "id": "9f9458f38f46ec88"
  },
  {
   "metadata": {},
   "cell_type": "markdown",
   "source": "",
   "id": "b715d38fd61d4963"
  },
  {
   "metadata": {},
   "cell_type": "markdown",
   "source": "",
   "id": "38655f1f6b67f78f"
  },
  {
   "metadata": {},
   "cell_type": "markdown",
   "source": "if your mysql does not support \"mysql_native_password\"",
   "id": "9725373f30779066"
  },
  {
   "metadata": {},
   "cell_type": "markdown",
   "source": "then set user directly",
   "id": "827d206f517410d0"
  },
  {
   "metadata": {},
   "cell_type": "code",
   "outputs": [],
   "execution_count": null,
   "source": [
    "CREATE USER '***'@'your original user' IDENTIFIED BY 'password';\n",
    "GRANT ALL PRIVILEGES ON database.* TO '***'@'your original user';\n",
    "FLUSH PRIVILEGES;"
   ],
   "id": "12123d18c4e00908"
  }
 ],
 "metadata": {
  "kernelspec": {
   "display_name": "Python 3",
   "language": "python",
   "name": "python3"
  },
  "language_info": {
   "codemirror_mode": {
    "name": "ipython",
    "version": 2
   },
   "file_extension": ".py",
   "mimetype": "text/x-python",
   "name": "python",
   "nbconvert_exporter": "python",
   "pygments_lexer": "ipython2",
   "version": "2.7.6"
  }
 },
 "nbformat": 4,
 "nbformat_minor": 5
}
