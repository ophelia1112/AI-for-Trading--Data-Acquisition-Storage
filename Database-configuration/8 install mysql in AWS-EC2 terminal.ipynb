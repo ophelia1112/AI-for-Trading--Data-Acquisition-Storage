{
 "cells": [
  {
   "metadata": {},
   "cell_type": "code",
   "outputs": [],
   "execution_count": null,
   "source": "# Install MySQL on ec2 terminal, use all the codes in EC2 terminal",
   "id": "fb2de59262475689"
  },
  {
   "metadata": {},
   "cell_type": "code",
   "outputs": [],
   "execution_count": null,
   "source": "# 1 install directly",
   "id": "e8511e4340c48ed9"
  },
  {
   "metadata": {},
   "cell_type": "code",
   "outputs": [],
   "execution_count": null,
   "source": "sudo yum update -y",
   "id": "cec93f33c4d12358"
  },
  {
   "metadata": {},
   "cell_type": "code",
   "outputs": [],
   "execution_count": null,
   "source": "sudo yum install -y mysql",
   "id": "77716b5034e4732a"
  },
  {
   "metadata": {},
   "cell_type": "code",
   "outputs": [],
   "execution_count": null,
   "source": "mysql --version",
   "id": "8dd9f5db1adac262"
  },
  {
   "metadata": {},
   "cell_type": "code",
   "outputs": [],
   "execution_count": null,
   "source": "# then connect AWS RDS MySQL",
   "id": "c47aab3d011be5b5"
  },
  {
   "metadata": {},
   "cell_type": "code",
   "outputs": [],
   "execution_count": null,
   "source": "mysql -h endpoint -u username -p",
   "id": "e3dfbdb2bc486d49"
  },
  {
   "metadata": {},
   "cell_type": "code",
   "outputs": [],
   "execution_count": null,
   "source": "",
   "id": "72a8216490f8099e"
  },
  {
   "metadata": {},
   "cell_type": "code",
   "outputs": [],
   "execution_count": null,
   "source": "",
   "id": "22b57da9d41c31d4"
  },
  {
   "metadata": {},
   "cell_type": "code",
   "outputs": [],
   "execution_count": null,
   "source": "# 2 if encounter error \"No match for argument: mysql Error: Unable to find a match: mysql\" on Amazon linux2, try to install name like \"mysql\" or \"mariadb\"",
   "id": "e07c17d69732e66b"
  },
  {
   "metadata": {},
   "cell_type": "code",
   "outputs": [],
   "execution_count": null,
   "source": "# install mysql",
   "id": "96bc750e74ffe696"
  },
  {
   "metadata": {},
   "cell_type": "code",
   "outputs": [],
   "execution_count": null,
   "source": "sudo yum update -y",
   "id": "3487802c67efadc3"
  },
  {
   "metadata": {},
   "cell_type": "code",
   "outputs": [],
   "execution_count": null,
   "source": "sudo yum install -y mysql",
   "id": "ced9c84bbc4c5e74"
  },
  {
   "metadata": {},
   "cell_type": "code",
   "outputs": [],
   "execution_count": null,
   "source": "# if can not find \"mysql\", install mariadb",
   "id": "6e71cf355f123bcd"
  },
  {
   "metadata": {},
   "cell_type": "code",
   "outputs": [],
   "execution_count": null,
   "source": "sudo yum install -y mariadb",
   "id": "8d93d3e3a86de902"
  },
  {
   "metadata": {},
   "cell_type": "code",
   "outputs": [],
   "execution_count": null,
   "source": "# if can not install \"mysql\" and \"mariadb\", try to install official yum database of mysql",
   "id": "6fc9b591232b0966"
  },
  {
   "metadata": {},
   "cell_type": "code",
   "outputs": [],
   "execution_count": null,
   "source": "sudo yum install -y https://dev.mysql.com/get/mysql80-community-release-el7-5.noarch.rpm",
   "id": "470ac2f4d64e5e74"
  },
  {
   "metadata": {},
   "cell_type": "code",
   "outputs": [],
   "execution_count": null,
   "source": "sudo yum install -y mysql",
   "id": "250bd8afef27f847"
  },
  {
   "metadata": {},
   "cell_type": "code",
   "outputs": [],
   "execution_count": null,
   "source": "",
   "id": "31191f93de33c585"
  },
  {
   "metadata": {},
   "cell_type": "code",
   "outputs": [],
   "execution_count": null,
   "source": "",
   "id": "fe9266d14deeb972"
  },
  {
   "metadata": {},
   "cell_type": "code",
   "outputs": [],
   "execution_count": null,
   "source": "# 3 if encounter error about packages and shows \"- nothing provides libssl.so.10(libssl.so.10)(64bit) needed by mysql-community-client-8.0.41-1.el7.x86_64 from mysql80-community\" or other packages error",
   "id": "59f5d39f3b36a937"
  },
  {
   "metadata": {},
   "cell_type": "code",
   "outputs": [],
   "execution_count": null,
   "source": "# install mariadb first",
   "id": "751b48bd7a8c03"
  },
  {
   "metadata": {},
   "cell_type": "code",
   "outputs": [],
   "execution_count": null,
   "source": "sudo yum update -y",
   "id": "371261885ce619e7"
  },
  {
   "metadata": {},
   "cell_type": "code",
   "outputs": [],
   "execution_count": null,
   "source": "sudo yum install -y mariadb",
   "id": "be1299645d11574e"
  },
  {
   "metadata": {},
   "cell_type": "code",
   "outputs": [],
   "execution_count": null,
   "source": "# or install lacking packages",
   "id": "b379c5a28bbaf83d"
  },
  {
   "metadata": {},
   "cell_type": "code",
   "outputs": [],
   "execution_count": null,
   "source": [
    "sudo amazon-linux-extras enable corretto8\n",
    "sudo yum install -y compat-openssl10"
   ],
   "id": "f9d990eb697fdf2d"
  },
  {
   "metadata": {},
   "cell_type": "code",
   "outputs": [],
   "execution_count": null,
   "source": "sudo yum install -y mysql",
   "id": "7f47d848b5a06229"
  },
  {
   "metadata": {},
   "cell_type": "code",
   "outputs": [],
   "execution_count": null,
   "source": "# or install mysql manually",
   "id": "69676194781306b3"
  },
  {
   "metadata": {},
   "cell_type": "code",
   "outputs": [],
   "execution_count": null,
   "source": [
    "wget https://dev.mysql.com/get/mysql80-community-release-el7-5.noarch.rpm\n",
    "sudo yum localinstall -y mysql80-community-release-el7-5.noarch.rpm\n",
    "sudo yum install -y mysql"
   ],
   "id": "9734504ceaf6e3a5"
  },
  {
   "metadata": {},
   "cell_type": "code",
   "outputs": [],
   "execution_count": null,
   "source": "",
   "id": "75cd648f8fa76232"
  },
  {
   "metadata": {},
   "cell_type": "code",
   "outputs": [],
   "execution_count": null,
   "source": "",
   "id": "fe47295cd5b1ad50"
  },
  {
   "metadata": {},
   "cell_type": "code",
   "outputs": [],
   "execution_count": null,
   "source": "",
   "id": "b4bf5f9194b82d21"
  },
  {
   "metadata": {},
   "cell_type": "code",
   "outputs": [],
   "execution_count": null,
   "source": "# 4 if encounter error like \"No match for argument: mariadb Error: Unable to find a match: mariadb\" may means Amazons' yum soruces do not have \"mariadb\", activate mariadb10.5 and install",
   "id": "4d7f44b163557cb7"
  },
  {
   "metadata": {},
   "cell_type": "code",
   "outputs": [],
   "execution_count": null,
   "source": "sudo amazon-linux-extras enable mariadb10.5",
   "id": "3981f3e674351c9a"
  },
  {
   "metadata": {},
   "cell_type": "code",
   "outputs": [],
   "execution_count": null,
   "source": "sudo yum install -y mariadb",
   "id": "56555906b59095e6"
  },
  {
   "metadata": {},
   "cell_type": "code",
   "outputs": [],
   "execution_count": null,
   "source": "mysql --version",
   "id": "9d94f9f918b4f37e"
  },
  {
   "metadata": {},
   "cell_type": "code",
   "outputs": [],
   "execution_count": null,
   "source": "# if failed, then try to add mariadb.repo and then install",
   "id": "6103ffed25bf0460"
  },
  {
   "metadata": {},
   "cell_type": "code",
   "outputs": [],
   "execution_count": null,
   "source": "echo -e \"[mariadb]\\nname = MariaDB\\nbaseurl = http://yum.mariadb.org/10.5/centos7-amd64\\ngpgkey=https://yum.mariadb.org/RPM-GPG-KEY-MariaDB\\ngpgcheck=1\" | sudo tee /etc/yum.repos.d/MariaDB.repo",
   "id": "83f21cace448446"
  },
  {
   "metadata": {},
   "cell_type": "code",
   "outputs": [],
   "execution_count": null,
   "source": "sudo yum install -y MariaDB-client",
   "id": "43778da383c2eaf8"
  },
  {
   "metadata": {},
   "cell_type": "code",
   "outputs": [],
   "execution_count": null,
   "source": "# if can not install mariadb then use RPM packages to install mysql",
   "id": "6ec97a418ae61b09"
  },
  {
   "metadata": {},
   "cell_type": "code",
   "outputs": [],
   "execution_count": null,
   "source": [
    "wget https://dev.mysql.com/get/mysql80-community-release-el7-5.noarch.rpm\n",
    "sudo yum localinstall -y mysql80-community-release-el7-5.noarch.rpm\n",
    "sudo yum install -y mysql"
   ],
   "id": "3a83b2ceaaf0d42c"
  },
  {
   "metadata": {},
   "cell_type": "code",
   "outputs": [],
   "execution_count": null,
   "source": "# in some Amazon linux versions some tools may not work like \"amazon-linux-extras\", need use \"dnf\" install mysql",
   "id": "abb137a97e1ab638"
  },
  {
   "metadata": {},
   "cell_type": "code",
   "outputs": [],
   "execution_count": null,
   "source": "sudo dnf install -y mysql",
   "id": "cd8e6cb033e7ec42"
  },
  {
   "metadata": {},
   "cell_type": "code",
   "outputs": [],
   "execution_count": null,
   "source": "mysql --version",
   "id": "a4fb872a47614348"
  },
  {
   "metadata": {},
   "cell_type": "code",
   "outputs": [],
   "execution_count": null,
   "source": "",
   "id": "4bf43883e4f3feb3"
  },
  {
   "metadata": {},
   "cell_type": "code",
   "outputs": [],
   "execution_count": null,
   "source": "",
   "id": "605fb4d93c5db506"
  },
  {
   "metadata": {},
   "cell_type": "code",
   "outputs": [],
   "execution_count": null,
   "source": "",
   "id": "2d4e1f829989ad07"
  },
  {
   "metadata": {},
   "cell_type": "code",
   "outputs": [],
   "execution_count": null,
   "source": [
    "# if \"mysql-community-client\" does not have some libraries for installation may shows the error like \"- nothing provides libstdc++.so.6(GLIBCXX_3.4.9) needed by mysql-community-client-8.0.27-1.el7.i686 from mysql80-community\" then try to install mysql use codes below\n",
    "# I use the codes below to install successfully"
   ],
   "id": "c437cc302778cb54"
  },
  {
   "metadata": {},
   "cell_type": "code",
   "outputs": [],
   "execution_count": null,
   "source": "sudo dnf install -y https://dev.mysql.com/get/mysql80-community-release-el9-1.noarch.rpm",
   "id": "f3532b13a861d14"
  },
  {
   "metadata": {},
   "cell_type": "code",
   "outputs": [],
   "execution_count": null,
   "source": "sudo dnf update -y",
   "id": "985e85eed3d3364d"
  },
  {
   "metadata": {},
   "cell_type": "code",
   "outputs": [],
   "execution_count": null,
   "source": "sudo dnf install -y mysql mysql-community-client",
   "id": "5642672011457c49"
  },
  {
   "metadata": {},
   "cell_type": "code",
   "outputs": [],
   "execution_count": null,
   "source": "# if encounter some problems like \"--skip-broken \"",
   "id": "2988df4e2bcbf98e"
  },
  {
   "metadata": {},
   "cell_type": "code",
   "outputs": [],
   "execution_count": null,
   "source": "sudo dnf install -y mysql mysql-community-client --skip-broken",
   "id": "4591e100a4c8c5bb"
  },
  {
   "metadata": {},
   "cell_type": "code",
   "outputs": [],
   "execution_count": null,
   "source": "# install mysql in EC2 terminal successfully and enter in mysql",
   "id": "70c3b3f3c3082eb1"
  },
  {
   "metadata": {},
   "cell_type": "code",
   "outputs": [],
   "execution_count": null,
   "source": "mysql -h your-rds-endpoint.rds.amazonaws.com -u admin -p",
   "id": "5b7e079c0b77b69a"
  }
 ],
 "metadata": {
  "kernelspec": {
   "display_name": "Python 3",
   "language": "python",
   "name": "python3"
  },
  "language_info": {
   "codemirror_mode": {
    "name": "ipython",
    "version": 2
   },
   "file_extension": ".py",
   "mimetype": "text/x-python",
   "name": "python",
   "nbconvert_exporter": "python",
   "pygments_lexer": "ipython2",
   "version": "2.7.6"
  }
 },
 "nbformat": 4,
 "nbformat_minor": 5
}
