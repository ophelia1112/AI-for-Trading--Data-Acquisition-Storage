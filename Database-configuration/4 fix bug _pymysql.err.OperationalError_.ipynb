{
 "cells": [
  {
   "cell_type": "code",
   "execution_count": null,
   "id": "initial_id",
   "metadata": {
    "collapsed": true
   },
   "outputs": [],
   "source": [
    "# bug information:\n",
    "# pymysql.err.OperationalError: (1045, \"Access denied for user '***'@'***' (using password: YES)\")\n",
    "# terminal commands"
   ]
  },
  {
   "metadata": {},
   "cell_type": "markdown",
   "source": "first step: check mysql if working",
   "id": "5098f07633226bb0"
  },
  {
   "metadata": {},
   "cell_type": "code",
   "outputs": [],
   "execution_count": null,
   "source": "brew services list",
   "id": "565758bc3b662643"
  },
  {
   "metadata": {},
   "cell_type": "markdown",
   "source": "if working then activate mysql",
   "id": "8821e63a7bffe1fb"
  },
  {
   "metadata": {},
   "cell_type": "code",
   "outputs": [],
   "execution_count": null,
   "source": "brew services start mysql",
   "id": "52c49bc8c7aaff59"
  },
  {
   "metadata": {},
   "cell_type": "code",
   "outputs": [],
   "execution_count": null,
   "source": "mysql -u root -p",
   "id": "92ca941f8c545db4"
  },
  {
   "metadata": {},
   "cell_type": "markdown",
   "source": "empower user *** to enter and use mysql if default user is not ***",
   "id": "6f0c65c223c1bb21"
  },
  {
   "metadata": {},
   "cell_type": "markdown",
   "source": "first check if *** in user list",
   "id": "e8a9f3b9f1f4598d"
  },
  {
   "metadata": {},
   "cell_type": "code",
   "outputs": [],
   "execution_count": null,
   "source": "SELECT User, Host FROM mysql.user;",
   "id": "bfaefcb107e903f3"
  },
  {
   "metadata": {},
   "cell_type": "markdown",
   "source": "if user is not exist",
   "id": "bfdceb78aab83461"
  },
  {
   "metadata": {},
   "cell_type": "code",
   "outputs": [],
   "execution_count": null,
   "source": "CREATE USER '***'@'***' IDENTIFIED WITH mysql_native_password BY 'password';",
   "id": "388e117bb14e5276"
  },
  {
   "metadata": {},
   "cell_type": "markdown",
   "source": "empower user *** to visit mysql",
   "id": "1c5053df482cd292"
  },
  {
   "metadata": {},
   "cell_type": "code",
   "outputs": [],
   "execution_count": null,
   "source": [
    "GRANT ALL PRIVILEGES ON database.* TO '***'@'***';\n",
    "FLUSH PRIVILEGES;"
   ],
   "id": "796b6e3a2340c547"
  },
  {
   "metadata": {},
   "cell_type": "code",
   "outputs": [],
   "execution_count": null,
   "source": "exit;",
   "id": "5f47dfb6ed23b78a"
  },
  {
   "metadata": {},
   "cell_type": "markdown",
   "source": "then update python code with user of ***",
   "id": "45414b3242276393"
  }
 ],
 "metadata": {
  "kernelspec": {
   "display_name": "Python 3",
   "language": "python",
   "name": "python3"
  },
  "language_info": {
   "codemirror_mode": {
    "name": "ipython",
    "version": 2
   },
   "file_extension": ".py",
   "mimetype": "text/x-python",
   "name": "python",
   "nbconvert_exporter": "python",
   "pygments_lexer": "ipython2",
   "version": "2.7.6"
  }
 },
 "nbformat": 4,
 "nbformat_minor": 5
}
