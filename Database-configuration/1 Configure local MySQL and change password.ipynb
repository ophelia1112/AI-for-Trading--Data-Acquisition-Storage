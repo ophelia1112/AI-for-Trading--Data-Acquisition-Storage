{
 "cells": [
  {
   "cell_type": "code",
   "execution_count": null,
   "id": "initial_id",
   "metadata": {
    "collapsed": true
   },
   "outputs": [],
   "source": "# terminal commands(MAC)"
  },
  {
   "metadata": {},
   "cell_type": "markdown",
   "source": "install",
   "id": "50749e41438e33a3"
  },
  {
   "metadata": {},
   "cell_type": "code",
   "outputs": [],
   "execution_count": null,
   "source": "brew install mysql",
   "id": "2b20508f3883c58c"
  },
  {
   "metadata": {},
   "cell_type": "markdown",
   "source": "start service",
   "id": "22889894451e18a7"
  },
  {
   "metadata": {},
   "cell_type": "code",
   "outputs": [],
   "execution_count": null,
   "source": "brew services start mysql",
   "id": "5ad409131b72d6"
  },
  {
   "metadata": {},
   "cell_type": "markdown",
   "source": "set password",
   "id": "4e2d2168b64f64b4"
  },
  {
   "metadata": {},
   "cell_type": "code",
   "outputs": [],
   "execution_count": null,
   "source": "mysql_secure_installation",
   "id": "cd8165cdb92ea310"
  },
  {
   "metadata": {},
   "cell_type": "markdown",
   "source": "enter password and enter in mysql",
   "id": "419ebb494343935e"
  },
  {
   "metadata": {},
   "cell_type": "code",
   "outputs": [],
   "execution_count": null,
   "source": "mysql -u root -p",
   "id": "ae0178fbb68bc63"
  },
  {
   "metadata": {},
   "cell_type": "markdown",
   "source": "create database and tables",
   "id": "9e1637d86514b435"
  },
  {
   "metadata": {},
   "cell_type": "code",
   "outputs": [],
   "execution_count": null,
   "source": "CREATE DATABASE ***;",
   "id": "9112f9169bbc7886"
  },
  {
   "metadata": {},
   "cell_type": "code",
   "outputs": [],
   "execution_count": null,
   "source": "USE ***;",
   "id": "d519c3e4a91854eb"
  },
  {
   "metadata": {},
   "cell_type": "code",
   "outputs": [],
   "execution_count": null,
   "source": [
    "CREATE TABLE market_data (\n",
    "    id INT AUTO_INCREMENT PRIMARY KEY,\n",
    "    .....\n",
    ");"
   ],
   "id": "50df30cb164e5bfd"
  },
  {
   "metadata": {},
   "cell_type": "markdown",
   "source": "connect python and mysql",
   "id": "c97cdf663d756eb0"
  },
  {
   "metadata": {},
   "cell_type": "code",
   "outputs": [],
   "execution_count": null,
   "source": "pip install pymysql",
   "id": "a39fdcd877275628"
  },
  {
   "metadata": {},
   "cell_type": "markdown",
   "source": "set env documents to save mysql database's information",
   "id": "94d7a506c96a144d"
  },
  {
   "metadata": {},
   "cell_type": "code",
   "outputs": [],
   "execution_count": null,
   "source": "touch .env",
   "id": "e0d1075349a92c5f"
  },
  {
   "metadata": {},
   "cell_type": "code",
   "outputs": [],
   "execution_count": null,
   "source": [
    "MYSQL_HOST=\"***\"\n",
    "MYSQL_USER=\"***\"\n",
    "MYSQL_PASSWORD=\"***\"\n",
    "MYSQL_DATABASE=\"***\""
   ],
   "id": "53c865127ff99c74"
  },
  {
   "metadata": {},
   "cell_type": "markdown",
   "source": "simple codes to connect local mysql database",
   "id": "1325cd9cbfc95048"
  },
  {
   "metadata": {},
   "cell_type": "code",
   "outputs": [],
   "execution_count": null,
   "source": [
    "# in pycharm\n",
    "import pymysql\n",
    "from dotenv import load_dotenv\n",
    "import os\n",
    "load_dotenv()\n",
    "\n",
    "MYSQL_HOST = os.getenv(\"***\")\n",
    "MYSQL_USER = os.getenv(\"***\")\n",
    "MYSQL_PASSWORD = os.getenv(\"***\")\n",
    "MYSQL_DATABASE = os.getenv(\"***\")\n",
    "\n",
    "connect_mysql = pymysql.connect(\n",
    "    host=MYSQL_HOST,\n",
    "    user=MYSQL_USER,\n",
    "    password=MYSQL_PASSWORD,\n",
    "    database=MYSQL_DATABASE\n",
    ")\n",
    "\n",
    "with connect_mysql.cursor() as cursor:\n",
    "    cursor.execute(\"SHOW TABLES;\")\n",
    "    result = cursor.fetchall()\n",
    "    print(result)\n",
    "\n",
    "connect_mysql.close()\n"
   ],
   "id": "213881b9ffc472e1"
  },
  {
   "metadata": {},
   "cell_type": "markdown",
   "source": "",
   "id": "769aec1f711d3503"
  },
  {
   "metadata": {},
   "cell_type": "markdown",
   "source": "",
   "id": "581949d20448fa8a"
  },
  {
   "metadata": {},
   "cell_type": "markdown",
   "source": "",
   "id": "31beaa0834017f3d"
  },
  {
   "metadata": {},
   "cell_type": "markdown",
   "source": "change mysql password",
   "id": "33ff6e296236e526"
  },
  {
   "metadata": {},
   "cell_type": "markdown",
   "source": "terminal commands",
   "id": "a5d79e6fa13bac3e"
  },
  {
   "metadata": {},
   "cell_type": "markdown",
   "source": "use current password to login in",
   "id": "87bff3f452887bdd"
  },
  {
   "metadata": {},
   "cell_type": "code",
   "outputs": [],
   "execution_count": null,
   "source": "mysql -u root -p",
   "id": "ea61b7e9ceca03ef"
  },
  {
   "metadata": {},
   "cell_type": "markdown",
   "source": "can not login mysql",
   "id": "7bc61ed3191d2102"
  },
  {
   "metadata": {},
   "cell_type": "markdown",
   "source": "stop mysql service first",
   "id": "b6af9bfd1bac2fb0"
  },
  {
   "metadata": {},
   "cell_type": "code",
   "outputs": [],
   "execution_count": null,
   "source": "sudo systemctl stop mysql",
   "id": "d9c9550d467aa1f1"
  },
  {
   "metadata": {},
   "cell_type": "markdown",
   "source": "skip identification of mysql and enter in safe mode",
   "id": "9183b82d5f90c2e2"
  },
  {
   "metadata": {},
   "cell_type": "code",
   "outputs": [],
   "execution_count": null,
   "source": "mysqld_safe --skip-grant-tables &",
   "id": "dca1a0d26cefc671"
  },
  {
   "metadata": {},
   "cell_type": "markdown",
   "source": "login in mysql directly",
   "id": "1bba819b98b6e5f7"
  },
  {
   "metadata": {},
   "cell_type": "code",
   "outputs": [],
   "execution_count": null,
   "source": "mysql -u root",
   "id": "364c4bd962331c88"
  },
  {
   "metadata": {},
   "cell_type": "markdown",
   "source": "set new password",
   "id": "5857ff46b6f22bc8"
  },
  {
   "metadata": {},
   "cell_type": "code",
   "outputs": [],
   "execution_count": null,
   "source": "USE mysql;",
   "id": "d26137a89e5ec9c4"
  },
  {
   "metadata": {},
   "cell_type": "code",
   "outputs": [],
   "execution_count": null,
   "source": "ALTER USER '***'@'***' IDENTIFIED BY 'new_password';",
   "id": "de484fdfdfa33d94"
  },
  {
   "metadata": {},
   "cell_type": "markdown",
   "source": "update permission",
   "id": "cb8ecaccefeaf84a"
  },
  {
   "metadata": {},
   "cell_type": "code",
   "outputs": [],
   "execution_count": null,
   "source": "FLUSH PRIVILEGES;",
   "id": "bd6618a1ecf88289"
  }
 ],
 "metadata": {
  "kernelspec": {
   "display_name": "Python 3",
   "language": "python",
   "name": "python3"
  },
  "language_info": {
   "codemirror_mode": {
    "name": "ipython",
    "version": 2
   },
   "file_extension": ".py",
   "mimetype": "text/x-python",
   "name": "python",
   "nbconvert_exporter": "python",
   "pygments_lexer": "ipython2",
   "version": "2.7.6"
  }
 },
 "nbformat": 4,
 "nbformat_minor": 5
}
